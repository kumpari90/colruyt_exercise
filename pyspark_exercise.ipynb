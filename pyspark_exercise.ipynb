{
  "nbformat": 4,
  "nbformat_minor": 0,
  "metadata": {
    "colab": {
      "provenance": [],
      "include_colab_link": true
    },
    "kernelspec": {
      "name": "python3",
      "display_name": "Python 3"
    },
    "language_info": {
      "name": "python"
    }
  },
  "cells": [
    {
      "cell_type": "markdown",
      "metadata": {
        "id": "view-in-github",
        "colab_type": "text"
      },
      "source": [
        "<a href=\"https://colab.research.google.com/github/kumpari90/colruyt_exercise/blob/main/pyspark_exercise.ipynb\" target=\"_parent\"><img src=\"https://colab.research.google.com/assets/colab-badge.svg\" alt=\"Open In Colab\"/></a>"
      ]
    },
    {
      "cell_type": "markdown",
      "source": [
        "# PySpark homework assignment\n",
        "\n",
        "## Context\n",
        "\n",
        "The goal of this assignment is to get view on your coding workflow & style.  Your main focus should be creating performant & robust code for data manipulations.  \n",
        "\n",
        "For a homework assignment, we cannot grant you access to our infrastructure (Cloudera data platform on prem: a spark cluster deployment on Yarn).  Since the focus is on development, we provided a template notebook to get up and running very quickly on Google Colab.  \n",
        "\n",
        "You have the freedom to perform this assignment on any spark3+ infrastructure.  If want to use a local or cloud setup, go for it!\n",
        "\n",
        "Some of the tasks are open for interpretation.  This allows us to assess business understanding and relevant field experience.  These tasks are not pass or fail checks.  During the interview we'll ask details about the choice(s) you made.\n",
        "\n",
        "For the assignment, you'll be working with store location data.  You might be familiar with the phrase \"Location, location, location\" from the real-estate context.  The same house can have a different selling price based on the location.  In fast moving consumer goods (FMCG), location is one of the most crucial aspects:\n",
        "\n",
        "* Proximity & accessibility to customers increases convenience\n",
        "* Proximity to competitors increases market pressure\n",
        "* It has impact on the supply chain\n",
        "\n",
        "## Evaluation criteria\n",
        "\n",
        "1. Software engineering\n",
        "   1. Clean code (e.g. using meaningful names)\n",
        "   1. Robust & efficient code\n",
        "   1. Styling (e.g. PEP8, or Google style guide)\n",
        "   1. Documentation(e.g. docstrings)\n",
        "   1. Design (e.g. SOLID principles)\n",
        "1. Workflow\n",
        "   1. How you use Git\n",
        "   1. How you structure your assignment\n",
        "   1. Owning mistakes\n",
        "   1. Rationale for design decisions\n",
        "   1. Making your solution accessible to others\n",
        "1. Business context\n",
        "   1. GDPR\n",
        "   1. Fast moving consumer goods\n",
        "1.(optional: own infra) System engineering\n",
        "   1. What setup did you use?\n",
        "   1. How did you set it up?\n",
        "\n",
        "## Deliverables we expect\n",
        "\n",
        "1. Private GitHub repo\n",
        "   1. Colab allows you to save to GitHub\n",
        "1. README.md with relevant content\n",
        "1. Code relevant to the assignment\n"
      ],
      "metadata": {
        "id": "MMCkWQR0NQh-"
      }
    },
    {
      "cell_type": "markdown",
      "source": [
        "## Google colab spark setup"
      ],
      "metadata": {
        "id": "ZWyMNpBNON-p"
      }
    },
    {
      "cell_type": "code",
      "execution_count": 1,
      "metadata": {
        "id": "3RiQgV1aNOJD"
      },
      "outputs": [],
      "source": [
        "!apt-get install openjdk-11-jdk-headless -qq > /dev/null\n",
        "!wget -q https://archive.apache.org/dist/spark/spark-3.4.1/spark-3.4.1-bin-hadoop3.tgz\n",
        "!tar xf spark-3.4.1-bin-hadoop3.tgz\n",
        "!pip install -q findspark"
      ]
    },
    {
      "cell_type": "code",
      "source": [
        "from os import environ\n",
        "import findspark"
      ],
      "metadata": {
        "id": "V6xZShWarSWL"
      },
      "execution_count": 2,
      "outputs": []
    },
    {
      "cell_type": "code",
      "source": [
        "# Setting environment variables\n",
        "environ[\"JAVA_HOME\"] = \"/usr/lib/jvm/java-11-openjdk-amd64\"\n",
        "environ[\"SPARK_HOME\"] = \"/content/spark-3.4.1-bin-hadoop3\""
      ],
      "metadata": {
        "id": "Cvm3vu7cNSzV"
      },
      "execution_count": 3,
      "outputs": []
    },
    {
      "cell_type": "code",
      "source": [
        "# Init spark\n",
        "findspark.init()"
      ],
      "metadata": {
        "id": "8y6JdEBrO43D"
      },
      "execution_count": 4,
      "outputs": []
    },
    {
      "cell_type": "code",
      "source": [
        "from pyspark.sql import SparkSession\n",
        "# spark.sql.repl.eagerEval.enabled: Property used to format output tables better\n",
        "\n",
        "spark = (\n",
        "    SparkSession\n",
        "    .builder\n",
        "    .appName(\"cg-pyspark-assignment\")\n",
        "    .master(\"local\")\n",
        "    .config(\"spark.sql.repl.eagerEval.enabled\", True)\n",
        "    .getOrCreate()\n",
        "  )\n",
        "\n",
        "spark"
      ],
      "metadata": {
        "colab": {
          "base_uri": "https://localhost:8080/",
          "height": 219
        },
        "id": "o5-SFL47PQfJ",
        "outputId": "a9b1902d-9ee8-45ef-a952-a181eb8707c3"
      },
      "execution_count": 5,
      "outputs": [
        {
          "output_type": "execute_result",
          "data": {
            "text/plain": [
              "<pyspark.sql.session.SparkSession at 0x7f1e8475bdc0>"
            ],
            "text/html": [
              "\n",
              "            <div>\n",
              "                <p><b>SparkSession - in-memory</b></p>\n",
              "                \n",
              "        <div>\n",
              "            <p><b>SparkContext</b></p>\n",
              "\n",
              "            <p><a href=\"http://279c5807e98c:4040\">Spark UI</a></p>\n",
              "\n",
              "            <dl>\n",
              "              <dt>Version</dt>\n",
              "                <dd><code>v3.4.1</code></dd>\n",
              "              <dt>Master</dt>\n",
              "                <dd><code>local</code></dd>\n",
              "              <dt>AppName</dt>\n",
              "                <dd><code>cg-pyspark-assignment</code></dd>\n",
              "            </dl>\n",
              "        </div>\n",
              "        \n",
              "            </div>\n",
              "        "
            ]
          },
          "metadata": {},
          "execution_count": 5
        }
      ]
    },
    {
      "cell_type": "code",
      "source": [
        "spark"
      ],
      "metadata": {
        "colab": {
          "base_uri": "https://localhost:8080/",
          "height": 219
        },
        "id": "lalJcEWeXR1z",
        "outputId": "9931da5b-b38b-4afa-c79c-f231e99bc0a0"
      },
      "execution_count": 143,
      "outputs": [
        {
          "output_type": "execute_result",
          "data": {
            "text/plain": [
              "<pyspark.sql.session.SparkSession at 0x7d34e5a143a0>"
            ],
            "text/html": [
              "\n",
              "            <div>\n",
              "                <p><b>SparkSession - in-memory</b></p>\n",
              "                \n",
              "        <div>\n",
              "            <p><b>SparkContext</b></p>\n",
              "\n",
              "            <p><a href=\"http://384646e2bf65:4040\">Spark UI</a></p>\n",
              "\n",
              "            <dl>\n",
              "              <dt>Version</dt>\n",
              "                <dd><code>v3.4.1</code></dd>\n",
              "              <dt>Master</dt>\n",
              "                <dd><code>local</code></dd>\n",
              "              <dt>AppName</dt>\n",
              "                <dd><code>cg-pyspark-assignment</code></dd>\n",
              "            </dl>\n",
              "        </div>\n",
              "        \n",
              "            </div>\n",
              "        "
            ]
          },
          "metadata": {},
          "execution_count": 143
        }
      ]
    },
    {
      "cell_type": "markdown",
      "source": [
        "## Getting the assignment data\n",
        "\n",
        "This will call the api and save the results in current working directory as .json files"
      ],
      "metadata": {
        "id": "QWtk5p_punuQ"
      }
    },
    {
      "cell_type": "code",
      "source": [
        "!curl https://ecgplacesmw.colruytgroup.com/ecgplacesmw/v3/nl/places/filter/clp-places > clp-places.json\n",
        "!curl https://ecgplacesmw.colruytgroup.com/ecgplacesmw/v3/nl/places/filter/okay-places > okay-places.json\n",
        "!curl https://ecgplacesmw.colruytgroup.com/ecgplacesmw/v3/nl/places/filter/spar-places > spar-places.json\n",
        "!curl https://ecgplacesmw.colruytgroup.com/ecgplacesmw/v3/nl/places/filter/dats-places > dats-places.json\n",
        "!curl https://ecgplacesmw.colruytgroup.com/ecgplacesmw/v3/nl/places/filter/cogo-colpnts > cogo-colpnts.json"
      ],
      "metadata": {
        "colab": {
          "base_uri": "https://localhost:8080/"
        },
        "id": "Y-UEk918o3Xt",
        "outputId": "a417e378-12da-4f55-b858-87e4eff698df"
      },
      "execution_count": 6,
      "outputs": [
        {
          "output_type": "stream",
          "name": "stdout",
          "text": [
            "  % Total    % Received % Xferd  Average Speed   Time    Time     Time  Current\n",
            "                                 Dload  Upload   Total   Spent    Left  Speed\n",
            "100  217k    0  217k    0     0   158k      0 --:--:--  0:00:01 --:--:--  158k\n",
            "  % Total    % Received % Xferd  Average Speed   Time    Time     Time  Current\n",
            "                                 Dload  Upload   Total   Spent    Left  Speed\n",
            "100  140k    0  140k    0     0   143k      0 --:--:-- --:--:-- --:--:--  143k\n",
            "  % Total    % Received % Xferd  Average Speed   Time    Time     Time  Current\n",
            "                                 Dload  Upload   Total   Spent    Left  Speed\n",
            "100  157k    0  157k    0     0   138k      0 --:--:--  0:00:01 --:--:--  138k\n",
            "  % Total    % Received % Xferd  Average Speed   Time    Time     Time  Current\n",
            "                                 Dload  Upload   Total   Spent    Left  Speed\n",
            "100 85826    0 85826    0     0   123k      0 --:--:-- --:--:-- --:--:--  123k\n",
            "  % Total    % Received % Xferd  Average Speed   Time    Time     Time  Current\n",
            "                                 Dload  Upload   Total   Spent    Left  Speed\n",
            "100  233k    0  233k    0     0   232k      0 --:--:--  0:00:01 --:--:--  232k\n"
          ]
        }
      ]
    },
    {
      "cell_type": "markdown",
      "source": [
        "## Assignment instructions\n",
        "\n",
        "1. Download the data from api\n",
        "1. Create a logger object that logs to a file \"assignment.log\"\n",
        "   1. You can add whatever logging config you want or need\n",
        "   1. At least on Filehandler based on instructions\n",
        "1. implement get_data_by_brand function\n",
        "   1. Follow instructions in docstring\n",
        "   1. df_clp code line should work\n",
        "1. No more handholding ... :-)\n",
        "1. Create a single object (dataframe) that:\n",
        "   1. Contains data from **all brands**\n",
        "      1. Not every brand has the same columns!\n",
        "   1. Drop placeSearchOpeningHours\n",
        "   1. You can keep sellingPartners as an array\n",
        "   1. Extract \"postal_code\" from address\n",
        "   1. Create new column \"province\" derived from postal_code\n",
        "   1. Transform geoCoordinates into lat and lon column\n",
        "   1. One-hot-encode the handoverServices\n",
        "   1. Pretend houseNumber and streetName are GDPR sensitive.\n",
        "      1. How would you anonymize this data for unauthorized users?\n",
        "      1. (optional) Implement the above\n",
        "      1. How would you show the real data to authorized users?\n",
        "      1. (optional) Implement the above\n",
        "1. Save the end result as a parquet file\n",
        "   1. (optional)partitioning?\n",
        "\n",
        "**postal_code** logic:\n",
        "* \"Brussel\": 1000-1299  \n",
        "* \"Waals-Brabant\": 1300-1499  \n",
        "* \"Vlaams-Brabant\": 1500-1999, 3000-3499  \n",
        "* \"Antwerpen\": 2000-2999  \n",
        "* \"Limburg\": 3500-3999  \n",
        "* \"Luik\": 4000-4999  \n",
        "* \"Namen\": 5000-5999  \n",
        "* \"Henegouwen\": 6000-6599,7000-7999  \n",
        "* \"Luxemburg\": 6600-6999  \n",
        "* \"West-Vlaanderen\": 8000-8999  \n",
        "* \"Oost-Vlaanderen\": 9000-9999"
      ],
      "metadata": {
        "id": "VyvIVnyivCpf"
      }
    },
    {
      "cell_type": "code",
      "source": [
        "# Import statements should go here\n",
        "from logging import getLogger, Logger\n",
        "from pyspark.sql.functions import lit,col\n",
        "from pyspark.ml.feature import StringIndexer\n",
        "\n"
      ],
      "metadata": {
        "id": "DlsAnfxdxsT3"
      },
      "execution_count": 7,
      "outputs": []
    },
    {
      "cell_type": "code",
      "source": [
        "# Modify this based on assignment instructions\n",
        "LOGGER = getLogger()\n"
      ],
      "metadata": {
        "id": "ShwdnfjSxm2G"
      },
      "execution_count": 9,
      "outputs": []
    },
    {
      "cell_type": "code",
      "source": [
        "import logging\n",
        "logger = logging.getLogger('assignment_logger')\n",
        "logger.setLevel(logging.DEBUG)\n",
        "\n",
        "#File Handler and setting log level\n",
        "file_handler = logging.FileHandler('assignment.log')\n",
        "file_handler.setLevel(logging.DEBUG)\n",
        "\n",
        "#Creating formatter and adding it to file handler\n",
        "formatter = logging.Formatter(\"%(asctime)s %(relativeCreated)d [%(levelname)s] - [%(process)d][%(filename)s][%(funcName)s] - [%(lineno)d] %(message)s\")\n",
        "file_handler.setFormatter(formatter)\n",
        "\n",
        "# adding file_handler to the logger\n",
        "logger.addHandler(file_handler)\n",
        "\n",
        "logger.info('This is an info message')"
      ],
      "metadata": {
        "colab": {
          "base_uri": "https://localhost:8080/"
        },
        "id": "tubgsS4VsLLg",
        "outputId": "6ba88fbe-b9bc-4153-9c96-f05ba70fb138"
      },
      "execution_count": 8,
      "outputs": [
        {
          "output_type": "stream",
          "name": "stderr",
          "text": [
            "INFO:assignment_logger:This is an info message\n"
          ]
        }
      ]
    },
    {
      "cell_type": "code",
      "source": [
        "def get_data_by_brand(brand: str, logger: Logger = LOGGER):\n",
        "  \"\"\"Fetch input data based on brand.\n",
        "\n",
        "  Please add a column to the data indicating the input brand\n",
        "  Please add minimum one sanity check for loading the data\n",
        "  Please log things you consider relevant\n",
        "\n",
        "  Args:\n",
        "      brand: allowed values are (clp, okay, spar, dats, cogo)\n",
        "      logger: Logger object for logging\n",
        "\n",
        "  Returns:\n",
        "      The relevant dataframe\n",
        "  \"\"\"\n",
        "  raise NotImplementedError()"
      ],
      "metadata": {
        "id": "_wZhHFGFXkW0"
      },
      "execution_count": null,
      "outputs": []
    },
    {
      "cell_type": "code",
      "source": [
        "# Implementation of get_data_by_brand()\n",
        "brand_name = ['clp','cogo','spar']\n",
        "\n",
        "col_list = ['address', 'branchId', 'commercialName', 'ensign', 'geoCoordinates', 'handoverServices', 'isActive', 'moreInfoUrl', 'placeId', 'placeSearchOpeningHours', 'placeType', 'routeUrl', 'sellingPartners', 'sourceStatus', 'brand_name']\n",
        "uni_df = None\n",
        "\n",
        "def get_data_by_brand(brand: str):\n",
        "    # brand_list = ['clp','cogo','dats','okay','spar']\n",
        "    logger.info(brand)\n",
        "    # uni_df = None\n",
        "\n",
        "    # full_path = '/content/' + brand + '*'+ '.json'\n",
        "    # logger.info(full_path)\n",
        "\n",
        "    if brand not in brand_name:\n",
        "      logger.info('The brand name provided in input *** {} *** is not from CG'.format(brand))\n",
        "    else:\n",
        "      try:\n",
        "        df = spark.read.option(\"multiline\", \"true\").json('/content/' + brand + '*'+ '.json')\n",
        "        for column in [column for column in col_list if column not in df.columns]:\n",
        "          df = df.withColumn(column, lit(None))\n",
        "          df = df.withColumn('brand_name',lit(brand))\n",
        "          logger.info(df.columns)\n",
        "\n",
        "      except Exception as e:\n",
        "        logger.info('Error while reading file for {}'.format(brand))\n",
        "        logger.info('Error while reading file for {}'.format(e))\n",
        "      return df\n",
        "\n",
        "\n",
        "for brand in brand_name:\n",
        "  logger.info('The iteration for brand name {}'.format(brand))\n",
        "  df = get_data_by_brand(brand)\n",
        "  if uni_df is None:\n",
        "    uni_df = df\n",
        "  else:\n",
        "    logger.info(uni_df.columns)\n",
        "    uni_df = uni_df.unionByName(df)\n"
      ],
      "metadata": {
        "colab": {
          "base_uri": "https://localhost:8080/"
        },
        "id": "gvcG56VwlvAY",
        "outputId": "198fdcd4-016d-45e1-b863-f20e5dc44502"
      },
      "execution_count": 9,
      "outputs": [
        {
          "output_type": "stream",
          "name": "stderr",
          "text": [
            "INFO:assignment_logger:The iteration for brand name clp\n",
            "INFO:assignment_logger:clp\n",
            "INFO:assignment_logger:['address', 'branchId', 'commercialName', 'ensign', 'geoCoordinates', 'handoverServices', 'isActive', 'moreInfoUrl', 'placeId', 'placeSearchOpeningHours', 'placeType', 'routeUrl', 'sellingPartners', 'sourceStatus', 'brand_name']\n",
            "INFO:assignment_logger:The iteration for brand name cogo\n",
            "INFO:assignment_logger:cogo\n",
            "INFO:assignment_logger:['address', 'branchId', 'commercialName', 'ensign', 'geoCoordinates', 'handoverServices', 'isActive', 'moreInfoUrl', 'placeId', 'placeSearchOpeningHours', 'placeType', 'routeUrl', 'sellingPartners', 'sourceStatus', 'brand_name']\n",
            "INFO:assignment_logger:['address', 'branchId', 'commercialName', 'ensign', 'geoCoordinates', 'handoverServices', 'isActive', 'moreInfoUrl', 'placeId', 'placeSearchOpeningHours', 'placeType', 'routeUrl', 'sellingPartners', 'sourceStatus', 'brand_name']\n",
            "INFO:assignment_logger:The iteration for brand name spar\n",
            "INFO:assignment_logger:spar\n",
            "INFO:assignment_logger:['address', 'branchId', 'commercialName', 'ensign', 'geoCoordinates', 'isActive', 'moreInfoUrl', 'placeId', 'placeSearchOpeningHours', 'placeType', 'routeUrl', 'sourceStatus', 'handoverServices', 'brand_name']\n",
            "INFO:assignment_logger:['address', 'branchId', 'commercialName', 'ensign', 'geoCoordinates', 'isActive', 'moreInfoUrl', 'placeId', 'placeSearchOpeningHours', 'placeType', 'routeUrl', 'sourceStatus', 'handoverServices', 'brand_name', 'sellingPartners']\n",
            "INFO:assignment_logger:['address', 'branchId', 'commercialName', 'ensign', 'geoCoordinates', 'isActive', 'moreInfoUrl', 'placeId', 'placeSearchOpeningHours', 'placeType', 'routeUrl', 'sourceStatus', 'handoverServices', 'brand_name', 'sellingPartners']\n",
            "INFO:assignment_logger:['address', 'branchId', 'commercialName', 'ensign', 'geoCoordinates', 'handoverServices', 'isActive', 'moreInfoUrl', 'placeId', 'placeSearchOpeningHours', 'placeType', 'routeUrl', 'sellingPartners', 'sourceStatus', 'brand_name']\n"
          ]
        }
      ]
    },
    {
      "cell_type": "code",
      "source": [
        "# For reference of distinct brand_name\n",
        "uni_df.select('brand_name').distinct().show()\n",
        "uni_df = uni_df.dropDuplicates()\n",
        "# uni_df.count()\n",
        "uni_df.printSchema()"
      ],
      "metadata": {
        "colab": {
          "base_uri": "https://localhost:8080/"
        },
        "id": "RbCXSKqdAeLK",
        "outputId": "57acc01f-20e7-44c3-dcfd-129fffa08351"
      },
      "execution_count": 11,
      "outputs": [
        {
          "output_type": "stream",
          "name": "stdout",
          "text": [
            "+----------+\n",
            "|brand_name|\n",
            "+----------+\n",
            "|       clp|\n",
            "|      cogo|\n",
            "|      spar|\n",
            "+----------+\n",
            "\n",
            "root\n",
            " |-- address: struct (nullable = true)\n",
            " |    |-- cityName: string (nullable = true)\n",
            " |    |-- countryCode: string (nullable = true)\n",
            " |    |-- countryName: string (nullable = true)\n",
            " |    |-- houseNumber: string (nullable = true)\n",
            " |    |-- postalcode: string (nullable = true)\n",
            " |    |-- streetName: string (nullable = true)\n",
            " |-- branchId: string (nullable = true)\n",
            " |-- commercialName: string (nullable = true)\n",
            " |-- ensign: struct (nullable = true)\n",
            " |    |-- id: long (nullable = true)\n",
            " |    |-- name: string (nullable = true)\n",
            " |-- geoCoordinates: struct (nullable = true)\n",
            " |    |-- latitude: double (nullable = true)\n",
            " |    |-- longitude: double (nullable = true)\n",
            " |-- handoverServices: array (nullable = true)\n",
            " |    |-- element: string (containsNull = true)\n",
            " |-- isActive: boolean (nullable = true)\n",
            " |-- moreInfoUrl: string (nullable = true)\n",
            " |-- placeId: long (nullable = true)\n",
            " |-- placeSearchOpeningHours: array (nullable = true)\n",
            " |    |-- element: struct (containsNull = true)\n",
            " |    |    |-- closes: long (nullable = true)\n",
            " |    |    |-- date: string (nullable = true)\n",
            " |    |    |-- isOpenForTheDay: boolean (nullable = true)\n",
            " |    |    |-- isToday: boolean (nullable = true)\n",
            " |    |    |-- opens: long (nullable = true)\n",
            " |-- placeType: struct (nullable = true)\n",
            " |    |-- id: long (nullable = true)\n",
            " |    |-- longName: string (nullable = true)\n",
            " |    |-- placeTypeDescription: string (nullable = true)\n",
            " |-- routeUrl: string (nullable = true)\n",
            " |-- sellingPartners: array (nullable = true)\n",
            " |    |-- element: string (containsNull = true)\n",
            " |-- sourceStatus: string (nullable = true)\n",
            " |-- brand_name: string (nullable = false)\n",
            "\n"
          ]
        }
      ]
    },
    {
      "cell_type": "code",
      "source": [
        "uni_df.count()"
      ],
      "metadata": {
        "colab": {
          "base_uri": "https://localhost:8080/"
        },
        "id": "bqoW02Dnzd5M",
        "outputId": "63fbe1ac-7bbb-4381-c731-5857922961b8"
      },
      "execution_count": 12,
      "outputs": [
        {
          "output_type": "execute_result",
          "data": {
            "text/plain": [
              "746"
            ]
          },
          "metadata": {},
          "execution_count": 12
        }
      ]
    },
    {
      "cell_type": "code",
      "source": [
        "uni_df.columns"
      ],
      "metadata": {
        "colab": {
          "base_uri": "https://localhost:8080/"
        },
        "id": "offgjLDmYpVv",
        "outputId": "53ee6aa2-ec28-4397-b278-75e4c1d0d76d"
      },
      "execution_count": 13,
      "outputs": [
        {
          "output_type": "execute_result",
          "data": {
            "text/plain": [
              "['address',\n",
              " 'branchId',\n",
              " 'commercialName',\n",
              " 'ensign',\n",
              " 'geoCoordinates',\n",
              " 'handoverServices',\n",
              " 'isActive',\n",
              " 'moreInfoUrl',\n",
              " 'placeId',\n",
              " 'placeSearchOpeningHours',\n",
              " 'placeType',\n",
              " 'routeUrl',\n",
              " 'sellingPartners',\n",
              " 'sourceStatus',\n",
              " 'brand_name']"
            ]
          },
          "metadata": {},
          "execution_count": 13
        }
      ]
    },
    {
      "cell_type": "code",
      "source": [
        "uni_df_upd = uni_df.drop(col('placeSearchOpeningHours'))\n",
        "uni_df_upd.columns"
      ],
      "metadata": {
        "colab": {
          "base_uri": "https://localhost:8080/"
        },
        "id": "puXwe5WVY2V2",
        "outputId": "18c717e6-70f0-45b3-b476-e8ac24445f7c"
      },
      "execution_count": 14,
      "outputs": [
        {
          "output_type": "execute_result",
          "data": {
            "text/plain": [
              "['address',\n",
              " 'branchId',\n",
              " 'commercialName',\n",
              " 'ensign',\n",
              " 'geoCoordinates',\n",
              " 'handoverServices',\n",
              " 'isActive',\n",
              " 'moreInfoUrl',\n",
              " 'placeId',\n",
              " 'placeType',\n",
              " 'routeUrl',\n",
              " 'sellingPartners',\n",
              " 'sourceStatus',\n",
              " 'brand_name']"
            ]
          },
          "metadata": {},
          "execution_count": 14
        }
      ]
    },
    {
      "cell_type": "code",
      "source": [
        "# Implementation of province based on derived column postalcode.\n",
        "from pyspark.sql import functions as F\n",
        "uni_df_mod = uni_df_upd\\\n",
        ".withColumn('postalcode',uni_df_upd.address.postalcode)\\\n",
        ".withColumn('latitude',uni_df_upd.geoCoordinates.latitude)\\\n",
        ".withColumn('longitude',uni_df_upd.geoCoordinates.longitude)\\\n",
        ".withColumn('housenumber',uni_df_upd.address.houseNumber)\\\n",
        ".withColumn('streetname',uni_df_upd.address.streetName)\\\n",
        ".withColumn('province',F.when((col('postalcode') >= 1000 ) & (col('postalcode') <= 1299),'Brussels')\n",
        ".when((col('postalcode') >= 1300 ) & (col('postalcode') <= 1499),'Waals-Brabant')\n",
        ".when((col('postalcode') >= 2000 ) & (col('postalcode') <= 2999),'Antwerpen')\n",
        ".when((col('postalcode') >= 3500 ) & (col('postalcode') <= 3999),'Limburg')\n",
        ".when((col('postalcode') >= 4000 ) & (col('postalcode') <= 4999),'Luik')\n",
        ".when((col('postalcode') >= 5000 ) & (col('postalcode') <= 5999),'Namen')\n",
        ".when((col('postalcode') >= 6600 ) & (col('postalcode') <= 6999),'Luxemburg')\n",
        ".when((col('postalcode') >= 8000 ) & (col('postalcode') <= 8999),'West-Vlaanderen')\n",
        ".when((col('postalcode') >= 9000 ) & (col('postalcode') <= 9999),'Oost-Vlaanderen')\n",
        ".when((col('postalcode') >= 6000 ) & (col('postalcode') <= 6599) | (col('postalcode') >= 7000 ) & (col('postalcode') <= 7999),'Henegouwen')\n",
        ".when((col('postalcode') >= 1500 ) & (col('postalcode') <= 1999) | (col('postalcode') >= 3000 ) & (col('postalcode') <= 3499),'Vlaams-Brabant')\n",
        ".otherwise('')\n",
        ")\n",
        "\n",
        "# Implementation of masking as per GDPR for PI columns (streetname and housenumber)\n",
        "# Some cases the housenumber is of single-digit, so have masked the entire value\n",
        "\n",
        "uni_df_mod = uni_df_mod.withColumn('streetname', F.regexp_replace('streetname', '(?<!^).(?=.+)', '*'))\\\n",
        ".withColumn('housenumber', F.regexp_replace('housenumber', '(?=).(?=)', '*'))\n",
        "uni_df_mod.show(5)\n"
      ],
      "metadata": {
        "colab": {
          "base_uri": "https://localhost:8080/"
        },
        "id": "cEDSn1NzaXuG",
        "outputId": "5cd7fc92-752f-4f17-a074-aa3b52f44547"
      },
      "execution_count": 22,
      "outputs": [
        {
          "output_type": "stream",
          "name": "stdout",
          "text": [
            "+--------------------+--------+--------------------+-----------------+--------------------+--------------------+--------+--------------------+-------+-------------------+--------------------+-------------------+------------+----------+----------+----------+---------+-----------+--------------------+---------------+\n",
            "|             address|branchId|      commercialName|           ensign|      geoCoordinates|    handoverServices|isActive|         moreInfoUrl|placeId|          placeType|            routeUrl|    sellingPartners|sourceStatus|brand_name|postalcode|  latitude|longitude|housenumber|          streetname|       province|\n",
            "+--------------------+--------+--------------------+-----------------+--------------------+--------------------+--------+--------------------+-------+-------------------+--------------------+-------------------+------------+----------+----------+----------+---------+-----------+--------------------+---------------+\n",
            "|{DILBEEK, BE, Bel...|    3084|   DILBEEK (COLRUYT)|{8, COLR_Colruyt}|{50.8446291, 4.27...|[CSOP_ORDERABLE, ...|    true|https://www.colru...|    455|{1, Winkel, Winkel}|https://maps.appl...|[QUALITY, 3RDPARTY]|          AC|       clp|      1700|50.8446291|4.2725792|        ***|    N**************G| Vlaams-Brabant|\n",
            "|{NEU-MORESNET, BE...|    4135|    KELMIS (COLRUYT)|{8, COLR_Colruyt}|{50.7165301, 6.01...|[CSOP_ORDERABLE, ...|    true|https://www.colru...|    884|{1, Winkel, Winkel}|https://maps.appl...|[QUALITY, 3RDPARTY]|          AC|       clp|      4721|50.7165301|6.0174596|        ***|   L***************E|           Luik|\n",
            "|{NIEUWPOORT, BE, ...|    4232|NIEUWPOORT (COLRUYT)|{8, COLR_Colruyt}|{51.137091, 2.739...|                null|   false|https://www.colru...|    958|{1, Winkel, Winkel}|https://maps.appl...|               null|          IN|       clp|      8620| 51.137091| 2.739978|       ****|   J***************N|West-Vlaanderen|\n",
            "|{VERVIERS, BE, Be...|    3107|  VERVIERS (COLRUYT)|{8, COLR_Colruyt}|{50.5916607, 5.84...|[CSOP_ORDERABLE, ...|    true|https://www.colru...|    473|{1, Winkel, Winkel}|https://maps.appl...|[QUALITY, 3RDPARTY]|          AC|       clp|      4800|50.5916607|5.8475732|         **|B****************...|           Luik|\n",
            "|{RECOGNE, BE, Bel...|    3812| LIBRAMONT (COLRUYT)|{8, COLR_Colruyt}|{49.9182398, 5.36...|[CSOP_ORDERABLE, ...|    true|https://www.colru...|    759|{1, Winkel, Winkel}|https://maps.appl...|[QUALITY, 3RDPARTY]|          AC|       clp|      6800|49.9182398|5.3610037|          *|        L**********U|      Luxemburg|\n",
            "+--------------------+--------+--------------------+-----------------+--------------------+--------------------+--------+--------------------+-------+-------------------+--------------------+-------------------+------------+----------+----------+----------+---------+-----------+--------------------+---------------+\n",
            "only showing top 5 rows\n",
            "\n"
          ]
        }
      ]
    },
    {
      "cell_type": "code",
      "source": [
        "\n",
        "# String Indexer implementation for string to numeric conversion.\n",
        "# One-hot-encode implementation\n",
        "\n",
        "from pyspark.sql.functions import  *\n",
        "\n",
        "uni_df_mod_indexed = uni_df_mod.select('branchId','handoverServices')\n",
        "\n",
        "uni_df_mod_indx = uni_df_mod_indexed.withColumn('handoverServices',explode(col('handoverServices')))\n",
        "#uni_df_mod_indexed.show(10,False)\n",
        "\n",
        "\n",
        "#uni_df_mod_indx = uni_df_mod_indexed.withColumn(\"handoverServices\",concat_ws(\",\",col(\"handoverServices\")))\n",
        "\n",
        "indexer = StringIndexer(inputCol='handoverServices', outputCol='handoverServices_numeric')\n",
        "indexer_fitted = indexer.fit(uni_df_mod_indx)\n",
        "uni_df_mod_indx = indexer_fitted.transform(uni_df_mod_indx)\n",
        "\n",
        "uni_df_mod_indx.show()"
      ],
      "metadata": {
        "colab": {
          "base_uri": "https://localhost:8080/"
        },
        "id": "F5hVHW9BlloG",
        "outputId": "7d9c544e-7e47-4299-a271-4e36e96f1c38"
      },
      "execution_count": 19,
      "outputs": [
        {
          "output_type": "stream",
          "name": "stdout",
          "text": [
            "+--------+----------------+------------------------+\n",
            "|branchId|handoverServices|handoverServices_numeric|\n",
            "+--------+----------------+------------------------+\n",
            "|    3084|  CSOP_ORDERABLE|                     0.0|\n",
            "|    3084|  PREPAID_PARCEL|                     2.0|\n",
            "|    4135|  CSOP_ORDERABLE|                     0.0|\n",
            "|    4135|  PREPAID_PARCEL|                     2.0|\n",
            "|    3107|  CSOP_ORDERABLE|                     0.0|\n",
            "|    3107|  PREPAID_PARCEL|                     2.0|\n",
            "|    3812|  CSOP_ORDERABLE|                     0.0|\n",
            "|    3812|  PREPAID_PARCEL|                     2.0|\n",
            "|    3769|  CSOP_ORDERABLE|                     0.0|\n",
            "|    3769|  PREPAID_PARCEL|                     2.0|\n",
            "|    3537|  CSOP_ORDERABLE|                     0.0|\n",
            "|    3537|  PREPAID_PARCEL|                     2.0|\n",
            "|    3600|  CSOP_ORDERABLE|                     0.0|\n",
            "|    3600|  PREPAID_PARCEL|                     2.0|\n",
            "|    3433|  CSOP_ORDERABLE|                     0.0|\n",
            "|    3433|  PREPAID_PARCEL|                     2.0|\n",
            "|    4012|  PREPAID_PARCEL|                     2.0|\n",
            "|    4130|  CSOP_ORDERABLE|                     0.0|\n",
            "|    4130|  PREPAID_PARCEL|                     2.0|\n",
            "|    3144|  CSOP_ORDERABLE|                     0.0|\n",
            "+--------+----------------+------------------------+\n",
            "only showing top 20 rows\n",
            "\n"
          ]
        }
      ]
    },
    {
      "cell_type": "code",
      "source": [
        "#\n",
        "from pyspark.ml.feature import OneHotEncoder\n",
        "encoder = OneHotEncoder(inputCols=['handoverServices_numeric'], outputCols=['handoverServices_onehot'])\n",
        "uni_df_mod_indx_onehot = encoder.fit(uni_df_mod_indx).transform(uni_df_mod_indx)\n",
        "uni_df_mod_indx_onehot.show()"
      ],
      "metadata": {
        "colab": {
          "base_uri": "https://localhost:8080/"
        },
        "id": "_Bfw5fX_0bfU",
        "outputId": "197fe647-728d-48c2-da03-e1b6d9eff28d"
      },
      "execution_count": 20,
      "outputs": [
        {
          "output_type": "stream",
          "name": "stdout",
          "text": [
            "+--------+----------------+------------------------+-----------------------+\n",
            "|branchId|handoverServices|handoverServices_numeric|handoverServices_onehot|\n",
            "+--------+----------------+------------------------+-----------------------+\n",
            "|    3084|  CSOP_ORDERABLE|                     0.0|          (5,[0],[1.0])|\n",
            "|    3084|  PREPAID_PARCEL|                     2.0|          (5,[2],[1.0])|\n",
            "|    4135|  CSOP_ORDERABLE|                     0.0|          (5,[0],[1.0])|\n",
            "|    4135|  PREPAID_PARCEL|                     2.0|          (5,[2],[1.0])|\n",
            "|    3107|  CSOP_ORDERABLE|                     0.0|          (5,[0],[1.0])|\n",
            "|    3107|  PREPAID_PARCEL|                     2.0|          (5,[2],[1.0])|\n",
            "|    3812|  CSOP_ORDERABLE|                     0.0|          (5,[0],[1.0])|\n",
            "|    3812|  PREPAID_PARCEL|                     2.0|          (5,[2],[1.0])|\n",
            "|    3769|  CSOP_ORDERABLE|                     0.0|          (5,[0],[1.0])|\n",
            "|    3769|  PREPAID_PARCEL|                     2.0|          (5,[2],[1.0])|\n",
            "|    3537|  CSOP_ORDERABLE|                     0.0|          (5,[0],[1.0])|\n",
            "|    3537|  PREPAID_PARCEL|                     2.0|          (5,[2],[1.0])|\n",
            "|    3600|  CSOP_ORDERABLE|                     0.0|          (5,[0],[1.0])|\n",
            "|    3600|  PREPAID_PARCEL|                     2.0|          (5,[2],[1.0])|\n",
            "|    3433|  CSOP_ORDERABLE|                     0.0|          (5,[0],[1.0])|\n",
            "|    3433|  PREPAID_PARCEL|                     2.0|          (5,[2],[1.0])|\n",
            "|    4012|  PREPAID_PARCEL|                     2.0|          (5,[2],[1.0])|\n",
            "|    4130|  CSOP_ORDERABLE|                     0.0|          (5,[0],[1.0])|\n",
            "|    4130|  PREPAID_PARCEL|                     2.0|          (5,[2],[1.0])|\n",
            "|    3144|  CSOP_ORDERABLE|                     0.0|          (5,[0],[1.0])|\n",
            "+--------+----------------+------------------------+-----------------------+\n",
            "only showing top 20 rows\n",
            "\n"
          ]
        }
      ]
    },
    {
      "cell_type": "code",
      "source": [
        "# uni_df_mod.write.parquet('/content/result.parquet',mode='overwrite')\n",
        "\n",
        "uni_df_mod.write.partitionBy(\"brand_name\").mode(\"overwrite\").parquet(\"/content/result.parquet\")"
      ],
      "metadata": {
        "id": "26GtjC_LJoGG"
      },
      "execution_count": 21,
      "outputs": []
    },
    {
      "cell_type": "code",
      "source": [
        "# Note:\n",
        "# Not to be evaluated after this cell"
      ],
      "metadata": {
        "id": "1sCFf3Fgjnlm"
      },
      "execution_count": null,
      "outputs": []
    },
    {
      "cell_type": "code",
      "source": [],
      "metadata": {
        "id": "zwLYgH1fjniP"
      },
      "execution_count": null,
      "outputs": []
    },
    {
      "cell_type": "code",
      "source": [],
      "metadata": {
        "id": "tOGg9Ptijne4"
      },
      "execution_count": null,
      "outputs": []
    },
    {
      "cell_type": "code",
      "source": [],
      "metadata": {
        "id": "owkLbYVWjnV3"
      },
      "execution_count": null,
      "outputs": []
    },
    {
      "cell_type": "code",
      "source": [],
      "metadata": {
        "id": "B1UD9_hojnIC"
      },
      "execution_count": null,
      "outputs": []
    },
    {
      "cell_type": "code",
      "source": [
        "# Back Up code\n",
        "# Ignore this\n",
        "\n",
        "brand_name = ['clp','cogo']\n",
        "uni_df = None\n",
        "\n",
        "def get_data_by_brand(brand: str):\n",
        "    # brand_list = ['clp','cogo','dats','okay','spar']\n",
        "    logger.info(brand)\n",
        "    # uni_df = None\n",
        "\n",
        "    # full_path = '/content/' + brand + '*'+ '.json'\n",
        "    # logger.info(full_path)\n",
        "\n",
        "    if brand not in brand_name:\n",
        "      logger.info('The brand name provided in input *** {} *** is not from CG'.format(brand))\n",
        "    else:\n",
        "      try:\n",
        "        df = spark.read.option(\"multiline\", \"true\").json('/content/' + brand + '*'+ '.json')\n",
        "        df = df.withColumn('brand_name',lit(brand))\n",
        "        logger.info(df.columns)\n",
        "\n",
        "      except Exception as e:\n",
        "        logger.info('Error while reading file for {}'.format(brand))\n",
        "        logger.info('Error while reading file for {}'.format(e))\n",
        "      return df\n",
        "\n",
        "\n",
        "for brand in brand_name:\n",
        "  logger.info('The iteration for brand name {}'.format(brand))\n",
        "  df = get_data_by_brand(brand)\n",
        "  if uni_df is None:\n",
        "    uni_df = df\n",
        "  else:\n",
        "    logger.info(uni_df.columns)\n",
        "    uni_df = uni_df.unionAll(df)\n",
        "\n"
      ],
      "metadata": {
        "colab": {
          "base_uri": "https://localhost:8080/"
        },
        "id": "wNcnVT8wx33i",
        "outputId": "9eed8eb8-ba2f-4276-ef7a-1c10a3a70489"
      },
      "execution_count": 52,
      "outputs": [
        {
          "output_type": "stream",
          "name": "stderr",
          "text": [
            "INFO:assignment_logger:clp\n",
            "INFO:assignment_logger:/content/clp*.json\n"
          ]
        }
      ]
    },
    {
      "cell_type": "code",
      "source": [
        "df.columns"
      ],
      "metadata": {
        "colab": {
          "base_uri": "https://localhost:8080/"
        },
        "id": "7is4DeBSCNNB",
        "outputId": "6001de43-d03d-482a-f79c-afa74607b818"
      },
      "execution_count": 53,
      "outputs": [
        {
          "output_type": "execute_result",
          "data": {
            "text/plain": [
              "['address',\n",
              " 'branchId',\n",
              " 'commercialName',\n",
              " 'ensign',\n",
              " 'geoCoordinates',\n",
              " 'handoverServices',\n",
              " 'isActive',\n",
              " 'moreInfoUrl',\n",
              " 'placeId',\n",
              " 'placeSearchOpeningHours',\n",
              " 'placeType',\n",
              " 'routeUrl',\n",
              " 'sellingPartners',\n",
              " 'sourceStatus',\n",
              " 'brand_name']"
            ]
          },
          "metadata": {},
          "execution_count": 53
        }
      ]
    },
    {
      "cell_type": "code",
      "source": [
        "def get_data_by_brand(brand: str, logger: Logger = LOGGER):\n",
        "\n",
        "  raise NotImplementedError()"
      ],
      "metadata": {
        "id": "aCOR4D7YxJH6"
      },
      "execution_count": 35,
      "outputs": []
    },
    {
      "cell_type": "code",
      "source": [
        "# df_clp code snippet, this should work as expected\n",
        "df_clp = get_data_by_brand(brand=\"clp\", logger=LOGGER)"
      ],
      "metadata": {
        "colab": {
          "base_uri": "https://localhost:8080/",
          "height": 279
        },
        "id": "chz34qgi0vvK",
        "outputId": "4d759a3b-3fb4-4705-9d52-732ce40c906f"
      },
      "execution_count": null,
      "outputs": [
        {
          "output_type": "error",
          "ename": "NotImplementedError",
          "evalue": "ignored",
          "traceback": [
            "\u001b[0;31m---------------------------------------------------------------------------\u001b[0m",
            "\u001b[0;31mNotImplementedError\u001b[0m                       Traceback (most recent call last)",
            "\u001b[0;32m<ipython-input-10-7e8537b7ea51>\u001b[0m in \u001b[0;36m<cell line: 2>\u001b[0;34m()\u001b[0m\n\u001b[1;32m      1\u001b[0m \u001b[0;31m# df_clp code snippet, this should work as expected\u001b[0m\u001b[0;34m\u001b[0m\u001b[0;34m\u001b[0m\u001b[0m\n\u001b[0;32m----> 2\u001b[0;31m \u001b[0mdf_clp\u001b[0m \u001b[0;34m=\u001b[0m \u001b[0mget_data_by_brand\u001b[0m\u001b[0;34m(\u001b[0m\u001b[0mbrand\u001b[0m\u001b[0;34m=\u001b[0m\u001b[0;34m\"clp\"\u001b[0m\u001b[0;34m,\u001b[0m \u001b[0mlogger\u001b[0m\u001b[0;34m=\u001b[0m\u001b[0mLOGGER\u001b[0m\u001b[0;34m)\u001b[0m\u001b[0;34m\u001b[0m\u001b[0;34m\u001b[0m\u001b[0m\n\u001b[0m",
            "\u001b[0;32m<ipython-input-9-4b8764f419a4>\u001b[0m in \u001b[0;36mget_data_by_brand\u001b[0;34m(brand, logger)\u001b[0m\n\u001b[1;32m     13\u001b[0m       \u001b[0mThe\u001b[0m \u001b[0mrelevant\u001b[0m \u001b[0mdataframe\u001b[0m\u001b[0;34m\u001b[0m\u001b[0;34m\u001b[0m\u001b[0m\n\u001b[1;32m     14\u001b[0m   \"\"\"\n\u001b[0;32m---> 15\u001b[0;31m   \u001b[0;32mraise\u001b[0m \u001b[0mNotImplementedError\u001b[0m\u001b[0;34m(\u001b[0m\u001b[0;34m)\u001b[0m\u001b[0;34m\u001b[0m\u001b[0;34m\u001b[0m\u001b[0m\n\u001b[0m",
            "\u001b[0;31mNotImplementedError\u001b[0m: "
          ]
        }
      ]
    },
    {
      "cell_type": "code",
      "source": [],
      "metadata": {
        "id": "raCPEOOs8tWU"
      },
      "execution_count": null,
      "outputs": []
    }
  ]
}